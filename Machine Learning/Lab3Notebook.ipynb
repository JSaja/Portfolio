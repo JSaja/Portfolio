{
 "cells": [
  {
   "cell_type": "code",
   "execution_count": null,
   "metadata": {
    "collapsed": true
   },
   "outputs": [],
   "source": [
    "import matplotlib.pyplot as plt\n",
    "import pandas as pd\n",
    "\n",
    "df_pieces = []\n",
    "pathname = \"C:\\\\Users\\\\John\\\\Desktop\\\\INET 4710\\\\Labs\\\\Lab3\\\\names\\\\\"\n",
    "\n",
    "years = range(2010, 2016)\n",
    "for year in years:\n",
    "\tdf_year = pd.read_csv(pathname + \"yob\" + str(year) + \".txt\", names=['name', 'sex', 'births'])\n",
    "\tdf_year['year'] = year\n",
    "\tdf_pieces.append(df_year)\n",
    "\n",
    "names = pd.concat(df_pieces, ignore_index=True)\n",
    "\n",
    "\n",
    "# output a few lines of one of the data frames\n",
    "df_year.head()\t\n",
    "\n",
    "# sum births by gender\n",
    "names.groupby('sex')['births'].sum()\n",
    "\n",
    "type(names)\n",
    "names.index\n",
    "n = names.groupby('name')['births'].sum()\n",
    "type(n)\n",
    "# note a hierarchical index was created\n",
    "n.index\n",
    "# recreate a flat index\n",
    "n1 = n.reset_index(name='birthcount')\n",
    "\n",
    "# top 10 birth names\n",
    "top10 = n1.sort_values(by='birthcount', ascending=False)[:10]\n",
    "\n",
    "# select the name column converts the dataframe to a series\n",
    "# which can be converted to a list\t\n",
    "top10['name']\n",
    "type(top10['name'])\n",
    "l_top10 = top10['name'].tolist()\n",
    "\n",
    "# select the births for names in tht top 10 list\n",
    "df_top10 = names[names['name'].isin(l_top10)]\n",
    "# select name and birth count columns\n",
    "df_top10births = df_top10[['name','births']]\n",
    "\n",
    "# sum births for each name\n",
    "df_top10sum = df_top10.groupby('name')['births'].sum()\n",
    "df_top10sum = df_top10sum.reset_index(name='births')\n",
    "\n",
    "# create bar chart\n",
    "plt.style.use('ggplot')\n",
    "df_top10sum.plot(kind=\"bar\",x=df_top10sum[\"name\"],\n",
    "                          title=\"Birth Names\",\n",
    "                          legend=False)\n",
    "plt.gcf().subplots_adjust(bottom=0.2)\n",
    "\n",
    "plt.show()"
   ]
  }
 ],
 "metadata": {
  "anaconda-cloud": {},
  "kernelspec": {
   "display_name": "Python [default]",
   "language": "python",
   "name": "python3"
  },
  "language_info": {
   "codemirror_mode": {
    "name": "ipython",
    "version": 3
   },
   "file_extension": ".py",
   "mimetype": "text/x-python",
   "name": "python",
   "nbconvert_exporter": "python",
   "pygments_lexer": "ipython3",
   "version": "3.5.2"
  }
 },
 "nbformat": 4,
 "nbformat_minor": 1
}
